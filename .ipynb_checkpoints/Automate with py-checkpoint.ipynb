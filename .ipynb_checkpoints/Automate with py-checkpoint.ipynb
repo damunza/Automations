{
 "cells": [
  {
   "cell_type": "code",
   "execution_count": 106,
   "metadata": {},
   "outputs": [],
   "source": [
    "def collatz(number):\n",
    "    '''\n",
    "    collatz takes a number hals it if its even tripples and adds one to the tripple if its odd\n",
    "    \n",
    "    input: an integer number \n",
    "    output: even number / 2\n",
    "            odd number *3 + 1\n",
    "            \n",
    "    return: integer\n",
    "    '''\n",
    "#     check even \n",
    "    if number % 2 == 0:\n",
    "        return number // 2\n",
    "    return 3 * number + 1"
   ]
  },
  {
   "cell_type": "code",
   "execution_count": 3,
   "metadata": {},
   "outputs": [
    {
     "name": "stdout",
     "output_type": "stream",
     "text": [
      "190\n"
     ]
    }
   ],
   "source": [
    "print(collatz(63))"
   ]
  },
  {
   "cell_type": "code",
   "execution_count": 115,
   "metadata": {},
   "outputs": [],
   "source": [
    "def tillone():\n",
    "    '''\n",
    "    tillone prints the process of getting 1 from collatz sequence of any number\n",
    "    \n",
    "    input : integer by the user\n",
    "    output: the process to get one and 1\n",
    "    \n",
    "    return : integer\n",
    "    '''\n",
    "    user_input = input('Enter a number: ')\n",
    "    try:\n",
    "        number = int(user_input)\n",
    "        \n",
    "        if number == 1:\n",
    "            return 1\n",
    "        else:\n",
    "            while number > 1:\n",
    "                number = collatz(number)\n",
    "                print(f' the current working value is: {number}')\n",
    "            return number\n",
    "    except ValueError:\n",
    "        try:\n",
    "            number = float(user_input)\n",
    "            print('input is of type float')\n",
    "        except ValueError:\n",
    "            print ('Your input was not an integer or float')"
   ]
  },
  {
   "cell_type": "code",
   "execution_count": 114,
   "metadata": {},
   "outputs": [
    {
     "name": "stdout",
     "output_type": "stream",
     "text": [
      "Enter a number: hey\n",
      "Your input was not an integer\n"
     ]
    }
   ],
   "source": [
    "tillone()"
   ]
  },
  {
   "cell_type": "code",
   "execution_count": 116,
   "metadata": {},
   "outputs": [],
   "source": [
    "def commacode(alist):\n",
    "    '''\n",
    "    commacode returns a string from any list with the list values expressed as list[1], list[2],list[...] and list[n] \n",
    "    \n",
    "    input : list \n",
    "    output : a string \n",
    "    \n",
    "    return string\n",
    "    '''\n",
    "    alist.insert(-1, 'and')\n",
    "    b = []\n",
    "    for i in alist:\n",
    "        b.append(str(i))\n",
    "    \n",
    "    return ', '.join(b[:-2])+ ' ' + ' '.join(b[-2: ]) "
   ]
  },
  {
   "cell_type": "code",
   "execution_count": 55,
   "metadata": {},
   "outputs": [
    {
     "data": {
      "text/plain": [
       "'apple, mango, orange and grape'"
      ]
     },
     "execution_count": 55,
     "metadata": {},
     "output_type": "execute_result"
    }
   ],
   "source": [
    "commacode(['apple', 'mango', 'orange', 'grape'])"
   ]
  },
  {
   "cell_type": "code",
   "execution_count": 56,
   "metadata": {},
   "outputs": [
    {
     "data": {
      "text/plain": [
       "'1, 2, 3, 4 and 5'"
      ]
     },
     "execution_count": 56,
     "metadata": {},
     "output_type": "execute_result"
    }
   ],
   "source": [
    "commacode([1,2,3,4,5])"
   ]
  },
  {
   "cell_type": "code",
   "execution_count": 118,
   "metadata": {},
   "outputs": [],
   "source": [
    "import random \n",
    "def headstails():\n",
    "    '''\n",
    "    headtails is a function that generates 10000 values of random heads('h') and tails('t')\n",
    "    \n",
    "    input : None\n",
    "    output: list of random h, t\n",
    "    \n",
    "    return : list\n",
    "    '''\n",
    "#     generate 10000 random gueses\n",
    "    guesses = []\n",
    "    for a in range(10000):\n",
    "        \n",
    "        i = random.randint(0,1)\n",
    "        \n",
    "        if i == 1:\n",
    "            guesses.append('h')\n",
    "            \n",
    "        elif i == 0:\n",
    "            guesses.append('t')\n",
    "            \n",
    "    return guesses\n",
    "\n",
    "def listsix(alist):\n",
    "    '''\n",
    "    listsix takes in a list of values and returns the values grouped in as many possible groups of six\n",
    "    \n",
    "    input : list\n",
    "    output : list of lists\n",
    "    \n",
    "    return : list\n",
    "    '''\n",
    "#     create a list of 6 consecutive values \n",
    "    listofsix = []\n",
    "    index = 0\n",
    "    for i in range(index,len(alist)):\n",
    "        try:\n",
    "            listofsix.append(alist[i:i+6])\n",
    "            index = i+6\n",
    "        except:\n",
    "            listofisix.append(alist[index:])\n",
    "            \n",
    "    return listofsix\n",
    "            \n",
    "def coinsix():\n",
    "    '''\n",
    "    couinsix counts the number of lists whose valyes are either h*6 or t*6\n",
    "    \n",
    "    input : None \n",
    "    output : number of lists with 6 consecutive h or t\n",
    "    \n",
    "    return : integer\n",
    "    '''\n",
    "#             count them \n",
    "    coins = listsix(headstails())\n",
    "                                   \n",
    "    coinstreaks = 0\n",
    "    for ind in coins:\n",
    "        if ind == ['h','h','h','h','h','h'] or ind == ['t','t','t','t','t','t']:\n",
    "            coinstreaks += 1\n",
    "    \n",
    "    return coinstreaks\n",
    "            "
   ]
  },
  {
   "cell_type": "code",
   "execution_count": 82,
   "metadata": {},
   "outputs": [
    {
     "name": "stdout",
     "output_type": "stream",
     "text": [
      "333\n"
     ]
    }
   ],
   "source": [
    "print(coinsix())"
   ]
  },
  {
   "cell_type": "code",
   "execution_count": 121,
   "metadata": {},
   "outputs": [],
   "source": [
    "def showgrid(grid):\n",
    "    '''\n",
    "    showgrid is a function that takes in a list of  lists and prints the values in a vertical axis orientation of strings\n",
    "    \n",
    "    input : grid list (list of lists)\n",
    "    output : vertical string\n",
    "    \n",
    "    return : None \n",
    "    '''\n",
    "    for i in range(len(grid)):\n",
    "        a = str(''.join(grid[i]))\n",
    "#         ensure a grid is printed and not a string on the x axis relative to view port\n",
    "        print(a, end= '\\n')"
   ]
  },
  {
   "cell_type": "code",
   "execution_count": 105,
   "metadata": {},
   "outputs": [
    {
     "name": "stdout",
     "output_type": "stream",
     "text": [
      "......\n",
      ".OO...\n",
      "OOOO..\n",
      "OOOOO.\n",
      ".OOOOO\n",
      "OOOOO.\n",
      "OOOO..\n",
      ".OO...\n",
      "......\n"
     ]
    }
   ],
   "source": [
    "grid = [['.', '.', '.', '.', '.', '.'],        ['.', 'O', 'O', '.', '.', '.'],        ['O', 'O', 'O', 'O', '.', '.'],        ['O', 'O', 'O', 'O', 'O', '.'],\n",
    "        ['.', 'O', 'O', 'O', 'O', 'O'],        ['O', 'O', 'O', 'O', 'O', '.'],        ['O', 'O', 'O', 'O', '.', '.'],        ['.', 'O', 'O', '.', '.', '.'],        ['.', '.', '.', '.', '.', '.']]\n",
    "\n",
    "showgrid(grid)"
   ]
  },
  {
   "cell_type": "code",
   "execution_count": 138,
   "metadata": {},
   "outputs": [],
   "source": [
    "def inventory(dictionary):\n",
    "    '''\n",
    "    inventory prints the sum of all the values in a dictionary and the key and value pairs to\n",
    "    \n",
    "    input: a dictionary with string keys and int values\n",
    "    output : a vertical string of the items inthe dictionary\n",
    "    \n",
    "    return : None\n",
    "    '''\n",
    "    print('Inventory contains:')\n",
    "    for key, value in dictionary.items():\n",
    "        \n",
    "        print(f'{value}, {key}', end='\\n')\n",
    "    \n",
    "    if all(type(values) == int for values in dictionary.values()):\n",
    "\n",
    "        total = sum(dictionary.values())\n",
    "        print(f'total items are: {total}')\n",
    "    else:\n",
    "        raise ValueError('Wrong Pairing: dict.values must be integers')\n",
    "        "
   ]
  },
  {
   "cell_type": "markdown",
   "metadata": {},
   "source": [
    "#### string manipulation try zombie dice "
   ]
  },
  {
   "cell_type": "markdown",
   "metadata": {},
   "source": [
    "### a justify method for  tabular data\n",
    "\n",
    "##### methods in use are\n",
    "- rjust(n, m) to move the items to the right with n as the precieding spaces and m as the precieding character\n",
    "- ljust(n , m) move left similar to rjust\n",
    "- center(n, m)\n",
    "\n",
    "m may be ommited to give blank spaces "
   ]
  },
  {
   "cell_type": "code",
   "execution_count": 48,
   "metadata": {},
   "outputs": [],
   "source": [
    "def longestarray(listoflists):\n",
    "    '''\n",
    "    longestarray takes a list of lists and returns the list of lists sorted by length of each list\n",
    "    \n",
    "    input : list of lists\n",
    "    output : list of lists\n",
    "    \n",
    "    return : list\n",
    "    '''\n",
    "    \n",
    "    listoflists.sort(key=len)\n",
    "    return reversed(listoflists)\n",
    "    \n",
    "    \n",
    "def gentable(arrays):\n",
    "    '''\n",
    "    gentavble takes a list of list and returns the list expressed as a table with content justified to the right\n",
    "    \n",
    "    input : list of lists\n",
    "    output : string expressed as a table\n",
    "    \n",
    "    return : string\n",
    "    '''\n",
    "    data = longestarray(arrays)\n",
    "    max_len = 0 \n",
    "    space = max_len + 10\n",
    "    for array in data:\n",
    "#             max length of the words in each array\n",
    "        max_len = max(list(len(word) for word in array))\n",
    "#     creating an equal sizing of the words for a more even right trail\n",
    "        \n",
    "        \n",
    "        print(''.join(list(i.rjust(space) for i in array)), end='\\n')\n",
    "\n",
    "        \n",
    "        "
   ]
  },
  {
   "cell_type": "code",
   "execution_count": 49,
   "metadata": {},
   "outputs": [
    {
     "name": "stdout",
     "output_type": "stream",
     "text": [
      "     watch      very    keenly       you       may      miss\n",
      "   charity        is         a   fucking     bitch\n",
      "      here        is       the     proof\n",
      "        it       all\n"
     ]
    }
   ],
   "source": [
    "a = [['charity', 'is' , 'a' , 'fucking', 'bitch'], \n",
    "     ['here', 'is' , 'the' , 'proof'], \n",
    "     ['watch', 'very', 'keenly', 'you' , 'may' , 'miss'], \n",
    "     ['it', 'all']]\n",
    "gentable(a)"
   ]
  },
  {
   "cell_type": "markdown",
   "metadata": {},
   "source": [
    "### in order to remove whitespaces or elements separating strings \n",
    "- rstrip() strip the leading whitespace\n",
    "- lstrip() strip trailing whitespace\n",
    "- strip(blank/ var) strip all the whitespaces"
   ]
  },
  {
   "cell_type": "markdown",
   "metadata": {},
   "source": [
    "### convert numbers in the ascii table back and forth \n",
    "- ord() convert letters numbers and emojis to ascii numbers\n",
    "- chr() convert numbers in ascii to letters numbers and emojis"
   ]
  },
  {
   "cell_type": "markdown",
   "metadata": {},
   "source": [
    "### when using pyperclip in linux\n",
    "- sudo apt-get install xsel to install the xsel utility.\n",
    "- sudo apt-get install xclip to install the xclip utility.\n",
    "- pip install gtk to install the gtk Python module.\n",
    "- pip install PyQt4 to install the PyQt4 Python module.\n",
    "\n",
    "\n",
    "run any of them to install a copy paste mechanism on your machine"
   ]
  },
  {
   "cell_type": "markdown",
   "metadata": {},
   "source": [
    "### Pig Latin"
   ]
  },
  {
   "cell_type": "code",
   "execution_count": 13,
   "metadata": {},
   "outputs": [],
   "source": [
    "def firstvowel(word):\n",
    "    '''\n",
    "    firstvowel returns the index of the first vowel in a word\n",
    "    \n",
    "    input : string\n",
    "    output : integer\n",
    "    \n",
    "    return : int\n",
    "    '''\n",
    "    vowels = ['a','e','i','o','u']\n",
    "    for index, letter in enumerate(word):\n",
    "        if letter in vowels:\n",
    "            return index\n",
    "    return -1\n",
    "\n",
    "def switchstrings(a, b):\n",
    "    '''\n",
    "    switchstring takes in two substrings and switches their indexes\n",
    "    \n",
    "    input 1 : the first substring\n",
    "    input 2 : the second substring\n",
    "    \n",
    "    output : concatnated joined string \n",
    "    \n",
    "    return : string \n",
    "    '''\n",
    "    a, b = b, a\n",
    "    return a + b\n",
    "\n",
    "def punctuation(letter):\n",
    "    '''\n",
    "    punctuation checks if the passed letter is a punctuation or not \n",
    "    \n",
    "    input : a letter\n",
    "    output:  1 or -1\n",
    "    \n",
    "    return: int\n",
    "    '''\n",
    "    punc = [',', '.', ';', '`', '{', '}', '(', ')', '*', '!', '-', '?', '/', ':', '\\\\', \"'\", '\\\"']\n",
    "    if letter in punc:\n",
    "        return  1\n",
    "    return -1\n",
    "    \n",
    "def piglatin(sentence):\n",
    "    '''\n",
    "    piglatin returns a sentence translated to piglatin\n",
    "    \n",
    "    input : sentence\n",
    "    output : sentence in piglatin\n",
    "    \n",
    "    return : string\n",
    "    '''\n",
    "    vowels = 'a', 'e', 'i', 'o', 'u', 'y'\n",
    "    pig = []\n",
    "    for word in sentence.split(' '):\n",
    "        wasupper = word.isupper()\n",
    "        wastitle = word.istitle()\n",
    "        trailing = ''\n",
    "        heading = ''\n",
    "        print(heading, trailing)\n",
    "#         remove posible non alphanumeric characters\n",
    "        if punctuation (word[-1]) == 1:\n",
    "            trailing = word[-1]\n",
    "            word = word [:-1]\n",
    "        if punctuation(word[0]) == 1:\n",
    "            heading = word[0]\n",
    "            word = word[1:]\n",
    "        \n",
    "#         lowercase for easier working\n",
    "        word.lower()\n",
    "#     checking piglatin\n",
    "        if word[0] in vowels:\n",
    "            new_word = word + 'yay'\n",
    "        else:\n",
    "            vowel = firstvowel(word)\n",
    "            consonants = word[:vowel]\n",
    "            restword = word[vowel:]\n",
    "            switched = switchstrings(consonants, restword)\n",
    "            \n",
    "            new_word = switched + 'ay'\n",
    "            \n",
    "#             return cases\n",
    "        if trailing != '' or heading != '':\n",
    "            new_word = heading + new_word + trailing\n",
    "        if wasupper:\n",
    "            pig.append(new_word.upper())\n",
    "        elif wastitle:\n",
    "            pig.append(new_word.title())\n",
    "        else:\n",
    "            pig.append(new_word)\n",
    "            \n",
    "    return ' '.join(pig)"
   ]
  },
  {
   "cell_type": "code",
   "execution_count": 14,
   "metadata": {},
   "outputs": [
    {
     "name": "stdout",
     "output_type": "stream",
     "text": [
      "Enter a sentence to be converted: \n",
      "Hey, how are you doing?\n",
      " \n",
      " \n",
      " \n",
      " \n",
      " \n"
     ]
    },
    {
     "data": {
      "text/plain": [
       "'Eyhay, owhay areyay youyay oingday?'"
      ]
     },
     "execution_count": 14,
     "metadata": {},
     "output_type": "execute_result"
    }
   ],
   "source": [
    "print('Enter a sentence to be converted: ')\n",
    "sentence = input()\n",
    "piglatin(sentence)"
   ]
  },
  {
   "cell_type": "code",
   "execution_count": null,
   "metadata": {},
   "outputs": [],
   "source": []
  }
 ],
 "metadata": {
  "kernelspec": {
   "display_name": "Python 3",
   "language": "python",
   "name": "python3"
  },
  "language_info": {
   "codemirror_mode": {
    "name": "ipython",
    "version": 3
   },
   "file_extension": ".py",
   "mimetype": "text/x-python",
   "name": "python",
   "nbconvert_exporter": "python",
   "pygments_lexer": "ipython3",
   "version": "3.8.3"
  }
 },
 "nbformat": 4,
 "nbformat_minor": 4
}
